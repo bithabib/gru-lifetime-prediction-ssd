{
 "cells": [
  {
   "cell_type": "code",
   "execution_count": 17,
   "id": "26585898",
   "metadata": {},
   "outputs": [],
   "source": [
    "import pandas as pd\n",
    "import numpy as np\n",
    "from tqdm.notebook import tqdm "
   ]
  },
  {
   "cell_type": "code",
   "execution_count": 24,
   "id": "486416ef",
   "metadata": {},
   "outputs": [],
   "source": [
    "def read_and_process_log_file(file_path):\n",
    "    try:\n",
    "        with open(file_path, \"r\") as file:\n",
    "            lines = file.readlines()\n",
    "    except FileNotFoundError:\n",
    "        print(\"Error: Could not open file\")\n",
    "        return None, None\n",
    "\n",
    "    dataset_size = len(lines)\n",
    "    print(f\"Number of lines: {dataset_size}\")\n",
    "\n",
    "    # Initialize input and target arrays\n",
    "    input_data = np.zeros((dataset_size, 4))  # INPUT_SIZE is 4 in this case\n",
    "    target_data = np.zeros(dataset_size)\n",
    "\n",
    "    read_counter = 1\n",
    "    write_counter = 1\n",
    "\n",
    "    for i, line in enumerate(tqdm(lines, desc=\"Processing Lines\")):\n",
    "        target_data[i] = 0\n",
    "        parts = line.split()\n",
    "        a, b = float(parts[0]), float(parts[1])\n",
    "        readWrite = parts[2]\n",
    "        input_data[i][0], input_data[i][1] = float(parts[3]), float(parts[4])\n",
    "        input_data[i][3] = 0  # Initialize to 0\n",
    "        \n",
    "\n",
    "        # Check for continuity in input_data\n",
    "        if i != 0 and input_data[i][0] == input_data[i - 1][0] + input_data[i - 1][1]:\n",
    "            input_data[i][3] = 1\n",
    "\n",
    "        if readWrite == 'r':\n",
    "            read_counter += 1\n",
    "        else:\n",
    "            write_counter += 1\n",
    "\n",
    "        input_data[i][2] = read_counter / write_counter\n",
    "        # Target data calculation based on previous occurrences\n",
    "        for target_lb_counter in range(i - 1, -1, -1):\n",
    "            if input_data[i][0] == input_data[target_lb_counter][0]:\n",
    "                target_difference = i - target_lb_counter\n",
    "                if target_difference < 1000:\n",
    "                    target_data[i] = 1\n",
    "                elif target_difference < 10000:\n",
    "                    target_data[i] = 2\n",
    "                elif target_difference < 100000:\n",
    "                    target_data[i] = 3\n",
    "                else:\n",
    "                    target_data[i] = 4\n",
    "                break\n",
    "    return input_data, target_data"
   ]
  },
  {
   "cell_type": "code",
   "execution_count": null,
   "id": "e1f5e554",
   "metadata": {},
   "outputs": [
    {
     "name": "stdout",
     "output_type": "stream",
     "text": [
      "Number of lines: 1571707\n"
     ]
    },
    {
     "data": {
      "application/vnd.jupyter.widget-view+json": {
       "model_id": "21360e2adfe94b4e9fa2d541a617e878",
       "version_major": 2,
       "version_minor": 0
      },
      "text/plain": [
       "Processing Lines:   0%|          | 0/1571707 [00:00<?, ?it/s]"
      ]
     },
     "metadata": {},
     "output_type": "display_data"
    }
   ],
   "source": [
    "file_path = \"Data/NewData/FIO_test.log\"\n",
    "input_data, target_data = read_and_process_log_file(file_path)"
   ]
  },
  {
   "cell_type": "code",
   "execution_count": null,
   "id": "2430f6da",
   "metadata": {},
   "outputs": [],
   "source": [
    "# Convert input_data and target_data to Pandas DataFrame and Series\n",
    "def convert_to_pandas(input_data, target_data):\n",
    "    input_df = pd.DataFrame(input_data, columns=['feature1', 'feature2', 'read_write_ratio', 'continuity'])\n",
    "    target_df = pd.Series(target_data, name='target')\n",
    "    return input_df, target_df\n",
    "\n",
    "input_df, target_df = convert_to_pandas(input_data, target_data)"
   ]
  },
  {
   "cell_type": "code",
   "execution_count": null,
   "id": "b23ce261",
   "metadata": {},
   "outputs": [],
   "source": [
    "import numpy as np\n",
    "import pandas as pd\n",
    "import tensorflow as tf\n",
    "from sklearn.model_selection import train_test_split\n",
    "from tensorflow.keras.models import Sequential\n",
    "from tensorflow.keras.layers import GRU, Dense\n",
    "\n",
    "# Step 1: Convert to Pandas DataFrame and Series\n",
    "input_df, target_df = convert_to_pandas(input_data, target_data)\n",
    "\n",
    "# Step 2: Prepare the data (train-test split)\n",
    "X_train, X_test, y_train, y_test = train_test_split(input_df, target_df, test_size=0.2, random_state=42)\n",
    "\n",
    "# Convert to NumPy arrays for TensorFlow compatibility\n",
    "X_train = np.array(X_train)\n",
    "X_test = np.array(X_test)\n",
    "y_train = np.array(y_train)\n",
    "y_test = np.array(y_test)\n",
    "\n",
    "# Reshape data to fit the GRU input format (samples, timesteps, features)\n",
    "# In this case, we can consider each sample as a timestep=1\n",
    "X_train = X_train.reshape((X_train.shape[0], 1, X_train.shape[1]))\n",
    "X_test = X_test.reshape((X_test.shape[0], 1, X_test.shape[1]))\n",
    "\n",
    "# Step 3: Build the GRU model\n",
    "model = Sequential()\n",
    "model.add(GRU(units=64, input_shape=(X_train.shape[1], X_train.shape[2]), return_sequences=False))\n",
    "model.add(Dense(1, activation='linear'))  # Output layer\n",
    "\n",
    "# Compile the model\n",
    "model.compile(optimizer='adam', loss='mse', metrics=['mae'])\n",
    "\n",
    "# Step 4: Train the GRU model\n",
    "history = model.fit(X_train, y_train, epochs=10, batch_size=32, validation_data=(X_test, y_test))\n",
    "\n",
    "# Step 5: Evaluate the model\n",
    "loss, mae = model.evaluate(X_test, y_test)\n",
    "print(f\"Test Loss: {loss}, Test MAE: {mae}\")\n",
    "\n",
    "# Step 6: Make predictions (optional)\n",
    "predictions = model.predict(X_test)"
   ]
  },
  {
   "cell_type": "code",
   "execution_count": null,
   "id": "13fd7483",
   "metadata": {},
   "outputs": [],
   "source": []
  }
 ],
 "metadata": {
  "kernelspec": {
   "display_name": "Python 3 (ipykernel)",
   "language": "python",
   "name": "python3"
  },
  "language_info": {
   "codemirror_mode": {
    "name": "ipython",
    "version": 3
   },
   "file_extension": ".py",
   "mimetype": "text/x-python",
   "name": "python",
   "nbconvert_exporter": "python",
   "pygments_lexer": "ipython3",
   "version": "3.8.10"
  }
 },
 "nbformat": 4,
 "nbformat_minor": 5
}
